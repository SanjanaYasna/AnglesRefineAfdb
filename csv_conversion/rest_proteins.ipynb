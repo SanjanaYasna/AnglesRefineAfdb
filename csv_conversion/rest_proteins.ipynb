{
 "cells": [
  {
   "cell_type": "code",
   "execution_count": 22,
   "metadata": {},
   "outputs": [],
   "source": [
    "#read txt file and take out the protein ids after the \"Error in extracting angles for protein id \" and write them to a new file\n",
    "import sys\n",
    "import re\n",
    "\n",
    "#read file\n",
    "with open(\"/kuhpc/work/slusky/s300y051/AnglesRefine/angles_conversions_fails.txt\", 'r') as f:\n",
    "    lines = f.readlines()\n",
    "    for line in lines:\n",
    "        #find the protein id\n",
    "        if \"Error in extracting angles for protein id \" in line:\n",
    "            #extract the protein id\n",
    "            protein_id = re.search(r'Error in extracting angles for protein id (.+?)\\n', line).group(1)\n",
    "            #write the protein id to a new file\n",
    "            with open(\"/kuhpc/work/slusky/s300y051/AnglesRefine/failed_protein_ids.txt\", 'a') as f:\n",
    "                #make sure there is no space in the protein id\n",
    "                protein_id = protein_id.replace(\" \", \"\")\n",
    "                f.write(protein_id + \"\\n\")"
   ]
  },
  {
   "cell_type": "code",
   "execution_count": 4,
   "metadata": {},
   "outputs": [],
   "source": [
    "files = []\n",
    "for file in lines:\n",
    "    file = \"/home/s300y051/scratch/relax_afdb/\" + file + \"_relaxed_0001.pdb\"\n",
    "    files.append(file)"
   ]
  },
  {
   "cell_type": "code",
   "execution_count": 5,
   "metadata": {},
   "outputs": [],
   "source": [
    "import os\n"
   ]
  },
  {
   "cell_type": "code",
   "execution_count": null,
   "metadata": {},
   "outputs": [],
   "source": [
    "for file in files:\n",
    "    file_id = os.path.basename(file).split(\"_\")[0]\n",
    "    angles_dir = \"/home/s300y051/scratch/angles_refine_afdb_final/\"+ file_id\n",
    "    print(file_id)\n"
   ]
  },
  {
   "cell_type": "code",
   "execution_count": 19,
   "metadata": {},
   "outputs": [],
   "source": [
    "file_id = \"T1WGN1\"\n",
    "angles_dir = \"/home/s300y051/scratch/angles_refine_afdb_final/\"+ file_id"
   ]
  },
  {
   "cell_type": "code",
   "execution_count": 21,
   "metadata": {},
   "outputs": [],
   "source": [
    "os.mkdir(angles_dir)\n",
    "model_structure_geo_pre_relax = extract_backbone_model(pre_relax + \"/\" + file_id + \".pdb\", angles_dir + '/source.csv' ,pre_relax = True)\n",
    "model_structure_geo_relax = extract_backbone_model(relax + \"/\" + file_id + \"_relaxed_0001.pdb\", angles_dir + '/target.csv')"
   ]
  },
  {
   "cell_type": "code",
   "execution_count": 20,
   "metadata": {},
   "outputs": [],
   "source": [
    "import json\n",
    "import sys\n",
    "import numpy as np\n",
    "import torch\n",
    "import torch.utils.data as Data\n",
    "from torch.utils.data import SubsetRandomSampler, DataLoader\n",
    "import torch.nn as nn\n",
    "import torch.optim as optim\n",
    "from tqdm import tqdm\n",
    "from Model import Transformer\n",
    "import time\n",
    "import os\n",
    "from PDB2Angles import extract_backbone_model\n",
    "from joblib import Parallel, delayed\n",
    "\n",
    "os.environ[\"LIBCIFPP_DATA_DIR\"] = \"/kuhpc/work/slusky/s300y051/dssp/libdssp/mmcif_pdbx\"\n",
    "#input\n",
    "pre_relax = \"/home/s300y051/scratch/alphafoldSwiss\"\n",
    "relax = \"/home/s300y051/scratch/relax_afdb\"\n",
    "angles = [\"psi\", \"phi\", \"omega\", \"CCN\", \"CNC\", \"NCC\"]\n",
    "minlength,maxlength = 5,37"
   ]
  },
  {
   "cell_type": "code",
   "execution_count": 31,
   "metadata": {},
   "outputs": [
    {
     "name": "stdout",
     "output_type": "stream",
     "text": [
      "Error in extracting angles for protein id  T1WGN1\n",
      "Error in extracting angles for protein id  T1WGN1\n",
      "Error in extracting angles for protein id  T1WGN1\n",
      "Error in extracting angles for protein id  T1WGN1\n",
      "Error in extracting angles for protein id  T1WGN1\n",
      "Error in extracting angles for protein id  T1WGN1\n",
      "Error in extracting angles for protein id  T1WGN1\n",
      "Error in extracting angles for protein id  T1WGN1\n",
      "Error in extracting angles for protein id  T1WGN1\n",
      "Error in extracting angles for protein id  T1WGN1\n",
      "Error in extracting angles for protein id  T1WGN1\n"
     ]
    },
    {
     "name": "stdout",
     "output_type": "stream",
     "text": [
      "Error in extracting angles for protein id  T1WGN1\n"
     ]
    }
   ],
   "source": [
    "for file in files:\n",
    "    try:\n",
    "        model_structure_geo_pre_relax = extract_backbone_model(pre_relax + \"/\" + file_id + \".pdb\", angles_dir + '/source.csv' ,pre_relax = True)\n",
    "        model_structure_geo_relax = extract_backbone_model(relax + \"/\" + file_id + \"_relaxed_0001.pdb\", angles_dir + '/target.csv')\n",
    "    except:\n",
    "        print(\"Error in extracting angles for protein id \", file_id)\n"
   ]
  }
 ],
 "metadata": {
  "kernelspec": {
   "display_name": "Python 3",
   "language": "python",
   "name": "python3"
  },
  "language_info": {
   "codemirror_mode": {
    "name": "ipython",
    "version": 3
   },
   "file_extension": ".py",
   "mimetype": "text/x-python",
   "name": "python",
   "nbconvert_exporter": "python",
   "pygments_lexer": "ipython3",
   "version": "3.10.14"
  },
  "orig_nbformat": 4
 },
 "nbformat": 4,
 "nbformat_minor": 2
}
