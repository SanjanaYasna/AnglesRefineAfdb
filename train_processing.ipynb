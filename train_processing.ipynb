{
 "cells": [
  {
   "cell_type": "code",
   "execution_count": 5,
   "metadata": {},
   "outputs": [],
   "source": [
    "import json\n",
    "import sys\n",
    "import numpy as np\n",
    "import torch\n",
    "import torch.utils.data as Data\n",
    "from torch.utils.data import SubsetRandomSampler, DataLoader\n",
    "import torch.nn as nn\n",
    "import torch.optim as optim\n",
    "from Model import Transformer\n",
    "import time\n",
    "import os\n",
    "from PDB2Angles import extract_backbone_model"
   ]
  },
  {
   "cell_type": "code",
   "execution_count": 45,
   "metadata": {},
   "outputs": [],
   "source": [
    "def convert_to_Longtensor(data):\n",
    "    data = torch.LongTensor(data)\n",
    "    return data\n",
    "\n",
    "def make_decoderinput(data):\n",
    "    for i in range(len(data)):\n",
    "        data[i].insert(0, 1001)\n",
    "        # data[i].append(36002)\n",
    "    return data\n",
    "\n",
    "def recover_target(data):\n",
    "    for i in range(len(data)):\n",
    "        del data[i][0]\n",
    "    return data\n",
    "\n",
    "def make_decoderoutput(data):\n",
    "    for i in range(len(data)):\n",
    "        data[i].append(1002)\n",
    "    return data"
   ]
  },
  {
   "cell_type": "code",
   "execution_count": 398,
   "metadata": {},
   "outputs": [],
   "source": [
    "#dataset inputs:\n",
    "#SS (helix, sheet, coil)\n",
    "#phi, psi, omega, CCN, CNC, NCC angle\n",
    "from typing import Any\n",
    "\n",
    "import pandas as pd\n",
    "\n",
    "\n",
    "class GetAngleForSSData(Data.Dataset):\n",
    "    def __init__(self, data_path, ss, angle, batch_size = 4):\n",
    "        self.data_path = data_path\n",
    "        self.ss = ss\n",
    "        self.angle = angle\n",
    "        self.proteins = os.listdir(data_path)\n",
    "    def __len__(self):\n",
    "        return len(self.proteins)\n",
    "    def __getitem__(self, index) -> Any:\n",
    "        protein = self.proteins[index]\n",
    "        print(protein)\n",
    "        # #enc angle and inflate values for training convenience \n",
    "        # train_enc_inputs = convert_to_Longtensor(source_angle)\n",
    "        \n",
    "        target = pd.read_csv(os.path.join(self.data_path, protein,\"target.csv\"), usecols=[\"SS\", self.angle])\n",
    "        target_angle = target[target[\"SS\"] == self.ss][self.angle].values\n",
    "        #find the corresponding indices in target.csv that have ss equal to desired self.ss\n",
    "        target_indices = target[target[\"SS\"] == self.ss].index\n",
    "        #get the corresponding source angle values\n",
    "        source = pd.read_csv(os.path.join(self.data_path, protein,\"source.csv\"), usecols=[ self.angle])\n",
    "        source_angle = source.iloc[target_indices][self.angle].values\n",
    "        # train_dec_inputs = convert_to_Longtensor(make_decoderinput(target_angle))\n",
    "        # train_dec_outputs = convert_to_Longtensor(make_decoderoutput(recover_target(target_angle)))\n",
    "        \n",
    "        return source_angle, target_angle#train_dec_inputs, train_dec_outputs"
   ]
  },
  {
   "cell_type": "code",
   "execution_count": 399,
   "metadata": {},
   "outputs": [],
   "source": [
    "data = GetAngleForSSData(\"/kuhpc/work/slusky/s300y051/AnglesRefine/example/sample_source_targets\", \"E\", \"phi\")"
   ]
  },
  {
   "cell_type": "code",
   "execution_count": 400,
   "metadata": {},
   "outputs": [],
   "source": [
    "# def collate_fn(batch):\n",
    "#     source_angle = [item[0] for item in batch]\n",
    "#     target_angle = [item[1] for item in batch]\n",
    "#     return source_angle, target_angle"
   ]
  },
  {
   "cell_type": "code",
   "execution_count": 444,
   "metadata": {},
   "outputs": [],
   "source": [
    "def collate_fn(batch):\n",
    "    train_enc_inputs =  [list(x) for x in list(zip(*batch))[1]]\n",
    "    #remove any empty arrays\n",
    "    train_enc_inputs = [x for x in train_enc_inputs if x != []]\n",
    "    train_enc_inputs = [convert_to_Longtensor(x) for x in train_enc_inputs]\n",
    "    #remove any -1 values\n",
    "    target_angles = [list(x) for x in list(zip(*batch))[1]]\n",
    "    #remove any empty angles\n",
    "    target_angles = [x for x in target_angles if x != []]\n",
    "    target_enc_inputs = make_decoderinput(target_angles)\n",
    "    target_enc_inputs = [convert_to_Longtensor(x) for x in target_enc_inputs]\n",
    "    #recover then decode for the target_dec\n",
    "    target_dec_inputs = make_decoderinput(recover_target(target_angles))\n",
    "    target_dec_inputs = [convert_to_Longtensor(x) for x in target_dec_inputs]\n",
    "    return train_enc_inputs, target_enc_inputs, target_dec_inputs"
   ]
  },
  {
   "cell_type": "code",
   "execution_count": 445,
   "metadata": {},
   "outputs": [],
   "source": [
    "train_loader = DataLoader(data,batch_size=5, shuffle=False, collate_fn=collate_fn)\n",
    "#batch in form:\n",
    "# [batch_size, tuple (source_angle, target_angle)]"
   ]
  },
  {
   "cell_type": "code",
   "execution_count": 449,
   "metadata": {},
   "outputs": [
    {
     "name": "stdout",
     "output_type": "stream",
     "text": [
      "A0A009IHW8\n",
      "A0A023I7E1\n",
      "A0A023YYV9\n",
      "A0A059TC02\n",
      "A0A061I403\n",
      "A0A067CMC7\n",
      "A0A068J840\n",
      "A0A072ULZ1\n",
      "A0A072UR65\n",
      "A0A084JZF2\n"
     ]
    }
   ],
   "source": [
    "for batch in train_loader:\n",
    "    train_enc_inputs, target_enc_inputs , target_dec_inputs = batch\n",
    "    assert len(train_enc_inputs) == len(target_enc_inputs) == len(target_dec_inputs)\n",
    "    # train_enc_inputs, target_enc_inputs = batch\n",
    "    # print(len(train_enc_inputs))\n",
    "    \n"
   ]
  },
  {
   "cell_type": "code",
   "execution_count": 448,
   "metadata": {},
   "outputs": [
    {
     "data": {
      "text/plain": [
       "4"
      ]
     },
     "execution_count": 448,
     "metadata": {},
     "output_type": "execute_result"
    }
   ],
   "source": []
  }
 ],
 "metadata": {
  "kernelspec": {
   "display_name": "Python 3",
   "language": "python",
   "name": "python3"
  },
  "language_info": {
   "codemirror_mode": {
    "name": "ipython",
    "version": 3
   },
   "file_extension": ".py",
   "mimetype": "text/x-python",
   "name": "python",
   "nbconvert_exporter": "python",
   "pygments_lexer": "ipython3",
   "version": "3.10.14"
  },
  "orig_nbformat": 4
 },
 "nbformat": 4,
 "nbformat_minor": 2
}
